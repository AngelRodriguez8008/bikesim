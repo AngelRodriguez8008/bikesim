{
 "cells": [
  {
   "cell_type": "code",
   "execution_count": null,
   "metadata": {
    "collapsed": false
   },
   "outputs": [],
   "source": [
    "# reloading magic\n",
    "%load_ext autoreload\n",
    "%autoreload 2"
   ]
  },
  {
   "cell_type": "code",
   "execution_count": null,
   "metadata": {
    "collapsed": false
   },
   "outputs": [],
   "source": [
    "import os\n",
    "import sys\n",
    "import numpy as np\n",
    "import matplotlib.pyplot as plt\n",
    "import matplotlib.cm as cm\n",
    "import matplotlib.patches as mpatches\n",
    "import seaborn as sns\n",
    "sns.set(style=\"white\", palette=\"muted\")\n",
    "sns.set_context(\"talk\", font_scale=1.4)\n",
    "%matplotlib qt"
   ]
  },
  {
   "cell_type": "code",
   "execution_count": null,
   "metadata": {
    "collapsed": false
   },
   "outputs": [],
   "source": [
    "import matplotlib as mpl\n",
    "mpl.rcParams['font.family'] = 'Helvetica'\n",
    "mpl.rcParams['font.weight'] = 'light'\n",
    "mpl.rcParams['axes.labelweight'] = 'light'\n"
   ]
  },
  {
   "cell_type": "code",
   "execution_count": null,
   "metadata": {
    "collapsed": true
   },
   "outputs": [],
   "source": [
    "# linux\n",
    "comm_path = os.path.normpath('/home/oliver/repos/bikesim/comm')\n",
    "scripts_path = os.path.normpath('/home/oliver/repos/bikesim/scripts')"
   ]
  },
  {
   "cell_type": "code",
   "execution_count": null,
   "metadata": {
    "collapsed": true
   },
   "outputs": [],
   "source": [
    "# osx\n",
    "comm_path = os.path.normpath('/Users/oliverlee/repos/bikesim/comm')\n",
    "scripts_path = os.path.normpath('/Users/oliverlee/repos/bikesim/scripts')"
   ]
  },
  {
   "cell_type": "code",
   "execution_count": null,
   "metadata": {
    "collapsed": false
   },
   "outputs": [],
   "source": [
    "for d in (comm_path, scripts_path):\n",
    "    if d not in sys.path:\n",
    "        sys.path.append(d)\n",
    "from parse_data import *"
   ]
  },
  {
   "cell_type": "code",
   "execution_count": null,
   "metadata": {
    "collapsed": true
   },
   "outputs": [],
   "source": [
    "log_dirname = '/Users/oliverlee/repos/bikesim/comm/data/exp0'\n",
    "if log_dirname is None:\n",
    "    log_dirname = comm_path"
   ]
  },
  {
   "cell_type": "code",
   "execution_count": null,
   "metadata": {
    "collapsed": false
   },
   "outputs": [],
   "source": [
    "subject_map = parse_log_dir(log_dirname)"
   ]
  },
  {
   "cell_type": "code",
   "execution_count": null,
   "metadata": {
    "collapsed": false
   },
   "outputs": [],
   "source": [
    "fig, ax = plot_historgram(subject_map, 'torque')"
   ]
  },
  {
   "cell_type": "code",
   "execution_count": null,
   "metadata": {
    "collapsed": false
   },
   "outputs": [],
   "source": [
    "torques = []\n",
    "deltas = []\n",
    "deltads = []\n",
    "for subj in subject_map.values():\n",
    "    t = []\n",
    "    d = []\n",
    "    dd = []\n",
    "    for log in subj.logs:\n",
    "        t = np.append(t, log.get_field_in_timerange('torque'))\n",
    "        d = np.append(d, log.get_field_in_timerange('delta'))\n",
    "        dd = np.append(dd, log.get_field_in_timerange('deltad'))\n",
    "    # ignore extra entries (time skew should be small)\n",
    "    num_entries = min(len(t), len(d))\n",
    "    torques.append(t[:num_entries])\n",
    "    deltas.append(d[:num_entries])\n",
    "    deltads.append(dd[:num_entries])"
   ]
  },
  {
   "cell_type": "code",
   "execution_count": null,
   "metadata": {
    "collapsed": false
   },
   "outputs": [],
   "source": [
    "peak = np.where(torques[0] > 10)[0]\n",
    "counts = []\n",
    "prev = 0\n",
    "count = 0\n",
    "for p in peak:\n",
    "    if p - prev > 1:\n",
    "        if count:\n",
    "            counts.append(count)\n",
    "        count = 0\n",
    "    else:\n",
    "        count += 1\n",
    "    prev = p\n",
    "print(counts)\n",
    "print('avg: {} ms'.format(np.mean(counts) * 20))\n",
    "print('max: {} ms'.format(max(counts) *  20))\n"
   ]
  },
  {
   "cell_type": "code",
   "execution_count": null,
   "metadata": {
    "collapsed": false
   },
   "outputs": [],
   "source": [
    "print([len(t) for t in torques])\n",
    "print([len(dd) for dd in deltads])"
   ]
  },
  {
   "cell_type": "code",
   "execution_count": null,
   "metadata": {
    "collapsed": false
   },
   "outputs": [],
   "source": [
    "powers = []\n",
    "for t, dd in zip(torques, deltads):\n",
    "    powers.append(np.multiply(t, dd))\n",
    "print('mean power: ', [np.mean(np.abs(p)) for p in powers])\n",
    "print('std power: ', [np.std(p) for p in powers])"
   ]
  },
  {
   "cell_type": "code",
   "execution_count": null,
   "metadata": {
    "collapsed": false
   },
   "outputs": [],
   "source": [
    "subjects = list(subject_map.values())\n",
    "print(subjects[0])"
   ]
  },
  {
   "cell_type": "code",
   "execution_count": null,
   "metadata": {
    "collapsed": false
   },
   "outputs": [],
   "source": [
    "for log in subjects[0].logs[:10]:\n",
    "    y = log.get_field_in_timerange('torque')\n",
    "    N = len(y)\n",
    "\n",
    "    yf = np.fft.fft(y)\n",
    "    xf = np.fft.fftfreq(len(y), 1/50)\n",
    "    #xf = np.linspace(0.0, 1.0/(2.0*T), N/2)\n",
    "    print(N/2)\n",
    "    plt.semilogy(xf[1:N/2], 2.0/N * np.abs(yf[1:N/2]))\n"
   ]
  },
  {
   "cell_type": "code",
   "execution_count": null,
   "metadata": {
    "collapsed": false
   },
   "outputs": [],
   "source": [
    "inertia = 0.01 * 100**2 # kg m^2 * (100cm/1m)^2\n",
    "print(inertia)"
   ]
  },
  {
   "cell_type": "code",
   "execution_count": null,
   "metadata": {
    "collapsed": false
   },
   "outputs": [],
   "source": [
    "# estimate handlebar inertia\n",
    "# http://bikethomson.com/mtb-aluminum/\n",
    "m_bar = 265/1000 # kg\n",
    "h_bar = 750/1000 # m\n",
    "r2_bar = 22.8 / 1000 / 2 # m, http://www.sheldonbrown.com/cribsheet-handlebars.html\n",
    "r1_bar = 18.5 / 1000 / 2 # m, http://www.bikeforums.net/bicycle-mechanics/533030-handlebar-internal-diameter.html\n",
    "\n",
    "# http://bikethomson.com/elite-x4-31-8-mountain/\n",
    "m_stem = 141 / 1000 # kg\n",
    "h_stem = 70 / 1000 # m, 70 mm stem length\n",
    "r2_stem = 40.64 / 1000 / 2\n",
    "r1_stem = 31.9 / 1000 / 2\n",
    "\n",
    "inertia_bar = m_bar/12*(3*(r2_bar**2 - r1_bar**2) + h_bar**2) + m_bar*h_stem**2\n",
    "inertia_stem = m_bar/12*(3*(r2_stem**2 - r1_stem**2) + h_stem**2) + m_stem*(h_stem/2)**2\n",
    "print(inertia_bar)\n",
    "print(inertia_stem)\n",
    "print(inertia_bar + inertia_stem)"
   ]
  },
  {
   "cell_type": "code",
   "execution_count": null,
   "metadata": {
    "collapsed": false
   },
   "outputs": [],
   "source": [
    "fig, ax = plot_historgram(subject_map, 'deltad')"
   ]
  },
  {
   "cell_type": "code",
   "execution_count": null,
   "metadata": {
    "collapsed": false
   },
   "outputs": [],
   "source": [
    "df = balance_df(subject_map.values())\n",
    "full_code = df.subject + '.' + df.torque_enabled.astype(int).astype(str)\n",
    "df['full_subject_code'] = full_code\n",
    "plt.subplots()\n",
    "g = sns.boxplot(df.log_timespan, df.full_subject_code, color=\"Paired\")\n",
    "g.set_xlabel('subject')"
   ]
  },
  {
   "cell_type": "code",
   "execution_count": null,
   "metadata": {
    "collapsed": false
   },
   "outputs": [],
   "source": [
    "g1 = plot_dist_grouped_boxchart(subject_map)\n",
    "plt.tight_layout()\n",
    "plt.savefig('grouped_boxcharts.pdf', format='pdf', dpi=1000)\n",
    "size = plt.gcf().get_size_inches()\n",
    "# g1.fig.suptitle('Distribution of time balanced per subject', fontsize=18)"
   ]
  },
  {
   "cell_type": "code",
   "execution_count": null,
   "metadata": {
    "collapsed": false
   },
   "outputs": [],
   "source": [
    "fig2, ax2 = plot_dist_overlapping_histogram(subject_map)\n",
    "plt.gcf().set_size_inches(size[0], size[1], forward=True)\n",
    "plt.tight_layout()\n",
    "plt.savefig('overlapping_histogram.pdf', format='pdf', dpi=1000)\n",
    "# plt.subplots_adjust(top=0.95)\n",
    "# fig2.suptitle('Distribution of time balanced for all subjects', fontsize=18)"
   ]
  },
  {
   "cell_type": "code",
   "execution_count": null,
   "metadata": {
    "collapsed": false
   },
   "outputs": [],
   "source": [
    "plt.close('all')\n",
    "g3 = plot_subject_balance_time_change_boxplot(subject_map)\n",
    "# plt.subplots_adjust(top=0.9)\n",
    "plt.gcf().set_size_inches(size[0], size[1], forward=True)\n",
    "plt.tight_layout()\n",
    "plt.savefig('subject_change_boxplot.pdf', format='pdf', dpi=1000)\n",
    "# g3.fig.suptitle('Change in time balanced per subject', fontsize=18)"
   ]
  },
  {
   "cell_type": "code",
   "execution_count": null,
   "metadata": {
    "collapsed": false
   },
   "outputs": [],
   "source": [
    "plt.close('all')\n",
    "fig4, ax4 = plot_overlapping_psd(subject_map, 'phi', 'longest')\n",
    "plt.gcf().set_size_inches(size[0], size[1], forward=True)\n",
    "plt.tight_layout()\n",
    "# plt.savefig('psd_lean_longest.pdf', format='pdf', dpi=1000)\n",
    "# fig4.suptitle('Power spectral density of lean angle of longest run', fontsize=18)"
   ]
  },
  {
   "cell_type": "code",
   "execution_count": null,
   "metadata": {
    "collapsed": false
   },
   "outputs": [],
   "source": [
    "plt.close('all')\n",
    "fig5, ax5 = plot_overlapping_psd(subject_map, 'phi', 'all')\n",
    "plt.gcf().set_size_inches(size[0], size[1], forward=True)\n",
    "plt.tight_layout()\n",
    "plt.savefig('psd_lean_all.pdf', format='pdf', dpi=1000)\n",
    "# fig5.suptitle('Power spectral density of lean angle of all runs', fontsize=18)"
   ]
  },
  {
   "cell_type": "code",
   "execution_count": null,
   "metadata": {
    "collapsed": false
   },
   "outputs": [],
   "source": [
    "fig6, ax6 = plot_overlapping_psd(subject_map, 'deltad', 'longest')\n",
    "plt.gcf().set_size_inches(size[0], size[1], forward=True)\n",
    "plt.tight_layout()\n",
    "# plt.savefig('psd_steer_rate_longest.pdf', format='pdf', dpi=1000)\n",
    "# fig6.suptitle('Power spectral density of steer rate of longest run', fontsize=18)"
   ]
  },
  {
   "cell_type": "code",
   "execution_count": null,
   "metadata": {
    "collapsed": false
   },
   "outputs": [],
   "source": [
    "plt.close('all')\n",
    "fig7, ax7 = plot_overlapping_psd(subject_map, 'deltad', 'all')\n",
    "plt.gcf().set_size_inches(size[0], size[1], forward=True)\n",
    "plt.tight_layout()\n",
    "plt.savefig('psd_steer_rate_all.pdf', format='pdf', dpi=1000)\n",
    "# fig7.suptitle('Power spectral density of steer rate of all run', fontsize=18)"
   ]
  },
  {
   "cell_type": "code",
   "execution_count": null,
   "metadata": {
    "collapsed": false
   },
   "outputs": [],
   "source": [
    "plt.close('all')\n",
    "fig8, ax8 = plot_overlapping_psd(subject_map, 'delta', 'all')\n",
    "plt.gcf().set_size_inches(size[0], size[1], forward=True)\n",
    "plt.tight_layout()\n",
    "plt.savefig('psd_steer_all.pdf', format='pdf', dpi=1000)\n",
    "# fig8.suptitle('Power spectral density of steer of all runs', fontsize=18)"
   ]
  },
  {
   "cell_type": "code",
   "execution_count": null,
   "metadata": {
    "collapsed": false
   },
   "outputs": [],
   "source": [
    "l = subject_map['003'].logs[-1]\n",
    "print('feedback: {}'.format(l.feedback))\n",
    "f, axes = plot_lean_steer_yy(l.sensor, l.actuator)\n",
    "f, axes = plot_subplots(l.sensor, l.actuator, ('phi', 'delta', 'deltad'))\n",
    "\n",
    "fig, ax = plt.subplots()\n",
    "tr = l.timerange\n",
    "ind_a = l.actuator.get_timerange_indices(tr)\n",
    "ind_s = l.sensor.get_timerange_indices(tr)\n",
    "f, psds = signal.welch(l.actuator.get_field('phi')[ind_a], 50, nperseg=256, return_onesided=True)\n",
    "ax.loglog(f, psds, label='lean')\n",
    "f, psds = signal.welch(l.sensor.get_field('delta')[ind_s], 50, nperseg=256, return_onesided=True)\n",
    "ax.loglog(f, psds, label='steer')\n",
    "f, psds = signal.welch(l.sensor.get_field('deltad')[ind_s], 50, nperseg=256, return_onesided=True)\n",
    "ax.loglog(f, psds, label='steer rate')\n",
    "ax.set_xlim([f[0], f[-1]])\n",
    "ax.set_xlabel('frequency [Hz]')\n",
    "ax.legend()\n",
    "fig.suptitle('psd')"
   ]
  },
  {
   "cell_type": "code",
   "execution_count": null,
   "metadata": {
    "collapsed": false
   },
   "outputs": [],
   "source": [
    "for s in subject_map.values():\n",
    "    t = s.balance_time(feedback=False)\n",
    "    print(np.mean(t), np.std(t))"
   ]
  }
 ],
 "metadata": {
  "kernelspec": {
   "display_name": "Python 3",
   "language": "python",
   "name": "python3"
  },
  "language_info": {
   "codemirror_mode": {
    "name": "ipython",
    "version": 3
   },
   "file_extension": ".py",
   "mimetype": "text/x-python",
   "name": "python",
   "nbconvert_exporter": "python",
   "pygments_lexer": "ipython3",
   "version": "3.4.3"
  }
 },
 "nbformat": 4,
 "nbformat_minor": 0
}
