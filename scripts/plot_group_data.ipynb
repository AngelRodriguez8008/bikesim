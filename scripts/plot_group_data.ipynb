{
 "cells": [
  {
   "cell_type": "code",
   "execution_count": null,
   "metadata": {
    "collapsed": false
   },
   "outputs": [],
   "source": [
    "# reloading magic\n",
    "%load_ext autoreload\n",
    "%autoreload 2"
   ]
  },
  {
   "cell_type": "code",
   "execution_count": null,
   "metadata": {
    "collapsed": false
   },
   "outputs": [],
   "source": [
    "import os\n",
    "import sys\n",
    "import numpy as np\n",
    "import matplotlib.pyplot as plt\n",
    "import matplotlib.cm as cm\n",
    "import matplotlib.patches as mpatches\n",
    "import seaborn as sns\n",
    "sns.set(style=\"white\", palette=\"muted\")\n",
    "sns.set_context(\"talk\", font_scale=1.4)\n",
    "%matplotlib qt"
   ]
  },
  {
   "cell_type": "code",
   "execution_count": null,
   "metadata": {
    "collapsed": false
   },
   "outputs": [],
   "source": [
    "import matplotlib as mpl\n",
    "mpl.rcParams['font.family'] = 'Helvetica'\n",
    "mpl.rcParams['font.weight'] = 'light'\n",
    "mpl.rcParams['axes.labelweight'] = 'light'\n"
   ]
  },
  {
   "cell_type": "code",
   "execution_count": null,
   "metadata": {
    "collapsed": true
   },
   "outputs": [],
   "source": [
    "# linux\n",
    "comm_path = os.path.normpath('/home/oliver/repos/bikesim/comm')\n",
    "scripts_path = os.path.normpath('/home/oliver/repos/bikesim/scripts')"
   ]
  },
  {
   "cell_type": "code",
   "execution_count": null,
   "metadata": {
    "collapsed": true
   },
   "outputs": [],
   "source": [
    "# osx\n",
    "comm_path = os.path.normpath('/Users/oliverlee/repos/bikesim/comm')\n",
    "scripts_path = os.path.normpath('/Users/oliverlee/repos/bikesim/scripts')"
   ]
  },
  {
   "cell_type": "code",
   "execution_count": null,
   "metadata": {
    "collapsed": false
   },
   "outputs": [],
   "source": [
    "for d in (comm_path, scripts_path):\n",
    "    if d not in sys.path:\n",
    "        sys.path.append(d)\n",
    "from parse_data import *"
   ]
  },
  {
   "cell_type": "code",
   "execution_count": null,
   "metadata": {
    "collapsed": true
   },
   "outputs": [],
   "source": [
    "log_dirname = '/Users/oliverlee/repos/bikesim/comm/data/exp0'\n",
    "if log_dirname is None:\n",
    "    log_dirname = comm_path"
   ]
  },
  {
   "cell_type": "code",
   "execution_count": null,
   "metadata": {
    "collapsed": false
   },
   "outputs": [],
   "source": [
    "subject_map = parse_log_dir(log_dirname)"
   ]
  },
  {
   "cell_type": "code",
   "execution_count": null,
   "metadata": {
    "collapsed": false
   },
   "outputs": [],
   "source": [
    "df = balance_df(subject_map.values())\n",
    "full_code = df.subject + '.' + df.torque_enabled.astype(int).astype(str)\n",
    "df['full_subject_code'] = full_code\n",
    "plt.subplots()\n",
    "g = sns.boxplot(df.log_timespan, df.full_subject_code, color=\"Paired\")\n",
    "g.set_xlabel('subject')"
   ]
  },
  {
   "cell_type": "code",
   "execution_count": null,
   "metadata": {
    "collapsed": false
   },
   "outputs": [],
   "source": [
    "g1 = plot_dist_grouped_boxchart(subject_map)\n",
    "plt.tight_layout()\n",
    "plt.savefig('grouped_boxcharts.pdf', format='pdf', dpi=1000)\n",
    "size = plt.gcf().get_size_inches()\n",
    "# g1.fig.suptitle('Distribution of time balanced per subject', fontsize=18)"
   ]
  },
  {
   "cell_type": "code",
   "execution_count": null,
   "metadata": {
    "collapsed": false
   },
   "outputs": [],
   "source": [
    "fig2, ax2 = plot_dist_overlapping_histogram(subject_map)\n",
    "plt.gcf().set_size_inches(size[0], size[1], forward=True)\n",
    "plt.tight_layout()\n",
    "plt.savefig('overlapping_histogram.pdf', format='pdf', dpi=1000)\n",
    "# plt.subplots_adjust(top=0.95)\n",
    "# fig2.suptitle('Distribution of time balanced for all subjects', fontsize=18)"
   ]
  },
  {
   "cell_type": "code",
   "execution_count": null,
   "metadata": {
    "collapsed": false
   },
   "outputs": [],
   "source": [
    "plt.close('all')\n",
    "g3 = plot_subject_balance_time_change_boxplot(subject_map)\n",
    "# plt.subplots_adjust(top=0.9)\n",
    "plt.gcf().set_size_inches(size[0], size[1], forward=True)\n",
    "plt.tight_layout()\n",
    "plt.savefig('subject_change_boxplot.pdf', format='pdf', dpi=1000)\n",
    "# g3.fig.suptitle('Change in time balanced per subject', fontsize=18)"
   ]
  },
  {
   "cell_type": "code",
   "execution_count": null,
   "metadata": {
    "collapsed": false
   },
   "outputs": [],
   "source": [
    "plt.close('all')\n",
    "fig4, ax4 = plot_overlapping_psd(subject_map, 'phi', 'longest')\n",
    "plt.gcf().set_size_inches(size[0], size[1], forward=True)\n",
    "plt.tight_layout()\n",
    "# plt.savefig('psd_lean_longest.pdf', format='pdf', dpi=1000)\n",
    "# fig4.suptitle('Power spectral density of lean angle of longest run', fontsize=18)"
   ]
  },
  {
   "cell_type": "code",
   "execution_count": null,
   "metadata": {
    "collapsed": false
   },
   "outputs": [],
   "source": [
    "plt.close('all')\n",
    "fig5, ax5 = plot_overlapping_psd(subject_map, 'phi', 'all')\n",
    "plt.gcf().set_size_inches(size[0], size[1], forward=True)\n",
    "plt.tight_layout()\n",
    "plt.savefig('psd_lean_all.pdf', format='pdf', dpi=1000)\n",
    "# fig5.suptitle('Power spectral density of lean angle of all runs', fontsize=18)"
   ]
  },
  {
   "cell_type": "code",
   "execution_count": null,
   "metadata": {
    "collapsed": false
   },
   "outputs": [],
   "source": [
    "fig6, ax6 = plot_overlapping_psd(subject_map, 'deltad', 'longest')\n",
    "plt.gcf().set_size_inches(size[0], size[1], forward=True)\n",
    "plt.tight_layout()\n",
    "# plt.savefig('psd_steer_rate_longest.pdf', format='pdf', dpi=1000)\n",
    "# fig6.suptitle('Power spectral density of steer rate of longest run', fontsize=18)"
   ]
  },
  {
   "cell_type": "code",
   "execution_count": null,
   "metadata": {
    "collapsed": false
   },
   "outputs": [],
   "source": [
    "plt.close('all')\n",
    "fig7, ax7 = plot_overlapping_psd(subject_map, 'deltad', 'all')\n",
    "# ax7.set_rasterized(True)\n",
    "plt.gcf().set_size_inches(size[0], size[1], forward=True)\n",
    "plt.tight_layout()\n",
    "plt.savefig('psd_steer_rate_all.pdf', format='pdf', dpi=1000)\n",
    "# fig7.suptitle('Power spectral density of steer rate of all run', fontsize=18)"
   ]
  },
  {
   "cell_type": "code",
   "execution_count": null,
   "metadata": {
    "collapsed": false
   },
   "outputs": [],
   "source": [
    "plt.close('all')\n",
    "fig8, ax8 = plot_overlapping_psd(subject_map, 'delta', 'all')\n",
    "# ax7.set_rasterized(True)\n",
    "plt.gcf().set_size_inches(size[0], size[1], forward=True)\n",
    "plt.tight_layout()\n",
    "fig8.suptitle('Power spectral density of steer of all runs', fontsize=18)\n",
    "plt.savefig('psd_steer_all.pdf', format='pdf', dpi=1000)"
   ]
  },
  {
   "cell_type": "code",
   "execution_count": null,
   "metadata": {
    "collapsed": false
   },
   "outputs": [],
   "source": [
    "l = subject_map['003'].logs[-1]\n",
    "print('feedback: {}'.format(l.feedback))\n",
    "f, axes = plot_lean_steer_yy(l.sensor, l.actuator)\n",
    "f, axes = plot_subplots(l.sensor, l.actuator, ('phi', 'delta', 'deltad'))\n",
    "\n",
    "fig, ax = plt.subplots()\n",
    "f, psds = signal.welch(l.actuator.get_field('phi'), 50, nperseg=256, return_onesided=True)\n",
    "ax.loglog(f, psds, label='lean')\n",
    "f, psds = signal.welch(l.sensor.get_field('delta'), 50, nperseg=256, return_onesided=True)\n",
    "ax.loglog(f, psds, label='steer')\n",
    "f, psds = signal.welch(l.sensor.get_field('deltad'), 50, nperseg=256, return_onesided=True)\n",
    "ax.loglog(f, psds, label='steer rate')\n",
    "ax.set_xlim([f[0], f[-1]])\n",
    "ax.set_xlabel('frequency [Hz]')\n",
    "ax.legend()\n",
    "fig.suptitle('psd')"
   ]
  },
  {
   "cell_type": "code",
   "execution_count": null,
   "metadata": {
    "collapsed": false
   },
   "outputs": [],
   "source": [
    "for s in subject_map.values():\n",
    "    print(len(s.logs))"
   ]
  },
  {
   "cell_type": "code",
   "execution_count": null,
   "metadata": {
    "collapsed": false
   },
   "outputs": [],
   "source": [
    "sns.palplot(sns.color_palette())\n",
    "colors = sns.color_palette()\n",
    "print(colors[2])"
   ]
  }
 ],
 "metadata": {
  "kernelspec": {
   "display_name": "Python 3",
   "language": "python",
   "name": "python3"
  },
  "language_info": {
   "codemirror_mode": {
    "name": "ipython",
    "version": 3
   },
   "file_extension": ".py",
   "mimetype": "text/x-python",
   "name": "python",
   "nbconvert_exporter": "python",
   "pygments_lexer": "ipython3",
   "version": "3.4.3"
  }
 },
 "nbformat": 4,
 "nbformat_minor": 0
}
