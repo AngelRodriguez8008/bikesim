{
 "cells": [
  {
   "cell_type": "code",
   "execution_count": null,
   "metadata": {
    "collapsed": false
   },
   "outputs": [],
   "source": [
    "# reloading magic\n",
    "%load_ext autoreload\n",
    "%autoreload 2"
   ]
  },
  {
   "cell_type": "code",
   "execution_count": null,
   "metadata": {
    "collapsed": false
   },
   "outputs": [],
   "source": [
    "import os\n",
    "import sys\n",
    "import numpy as np\n",
    "import matplotlib.pyplot as plt\n",
    "import matplotlib.cm as cm\n",
    "from scipy.signal import butter, cheby1, cheby2, medfilt\n",
    "from scipy.signal import lfilter, freqz\n",
    "import seaborn as sns\n",
    "%matplotlib qt"
   ]
  },
  {
   "cell_type": "code",
   "execution_count": null,
   "metadata": {
    "collapsed": true
   },
   "outputs": [],
   "source": [
    "# WINDOWS\n",
    "comm_path = os.path.normpath('C:/cygwin64/home/oliverlee/repos/bikesim/comm')\n",
    "scripts_path = os.path.normpath('C:/cygwin64/home/oliverlee/repos/bikesim/scripts')"
   ]
  },
  {
   "cell_type": "code",
   "execution_count": null,
   "metadata": {
    "collapsed": true
   },
   "outputs": [],
   "source": [
    "# OSX\n",
    "comm_path = os.path.normpath('/Users/oliverlee/repos/bikesim/comm')\n",
    "scripts_path = os.path.normpath('/Users/oliverlee/repos/bikesim/scripts')"
   ]
  },
  {
   "cell_type": "code",
   "execution_count": null,
   "metadata": {
    "collapsed": true
   },
   "outputs": [],
   "source": [
    "# linux\n",
    "comm_path = os.path.normpath('/home/oliver/repos/bikesim/comm')\n",
    "scripts_path = os.path.normpath('/home/oliver/repos/bikesim/scripts')"
   ]
  },
  {
   "cell_type": "code",
   "execution_count": null,
   "metadata": {
    "collapsed": false
   },
   "outputs": [],
   "source": [
    "for d in (comm_path, scripts_path):\n",
    "    if d not in sys.path:\n",
    "        sys.path.append(d)\n",
    "from parse_data import *"
   ]
  },
  {
   "cell_type": "code",
   "execution_count": null,
   "metadata": {
    "collapsed": true
   },
   "outputs": [],
   "source": [
    "log_file = 'C:/cygwin64/home/oliverlee/repos/bikesim/comm/data/log_150618_123728_UTC_100Hz_nofilter'"
   ]
  },
  {
   "cell_type": "code",
   "execution_count": null,
   "metadata": {
    "collapsed": false
   },
   "outputs": [],
   "source": [
    "log_file = 'C:/cygwin64/home/oliverlee/repos/bikesim/comm/data/log_150618_124057_UTC_50Hz_nofilter'"
   ]
  },
  {
   "cell_type": "code",
   "execution_count": null,
   "metadata": {
    "collapsed": false
   },
   "outputs": [],
   "source": [
    "log_file = 'C:/cygwin64/home/oliverlee/repos/bikesim/comm/log_150622_175024_UTC'"
   ]
  },
  {
   "cell_type": "code",
   "execution_count": null,
   "metadata": {
    "collapsed": true
   },
   "outputs": [],
   "source": [
    "log_file = '../comm/log_150618_230058_UTC'"
   ]
  },
  {
   "cell_type": "code",
   "execution_count": null,
   "metadata": {
    "collapsed": false
   },
   "outputs": [],
   "source": [
    "log_file = None"
   ]
  },
  {
   "cell_type": "code",
   "execution_count": null,
   "metadata": {
    "collapsed": false,
    "scrolled": true
   },
   "outputs": [],
   "source": [
    "# get the most recent log file in the comm_dir if not specified\n",
    "if log_file is None:\n",
    "    logs = [f for f in os.listdir(comm_path)\n",
    "            if f.startswith('log_') and os.path.isfile(os.path.join(comm_path, f))]\n",
    "    logs.sort()\n",
    "    log_file = os.path.join(comm_path, logs[-1])\n",
    "log_file = os.path.normpath(log_file)\n",
    "print('reading from log file: {}'.format(log_file))\n",
    "assert os.path.isfile(log_file)"
   ]
  },
  {
   "cell_type": "code",
   "execution_count": null,
   "metadata": {
    "collapsed": false
   },
   "outputs": [],
   "source": [
    "sensor, actuator = parse_log(log_file)"
   ]
  },
  {
   "cell_type": "code",
   "execution_count": null,
   "metadata": {
    "collapsed": false
   },
   "outputs": [],
   "source": [
    "fig1, ax1, hd1 = plot_timeinfo(sensor)\n",
    "if actuator.shape[0] > 1:\n",
    "    fig2, ax2, hd2 = plot_timeinfo(actuator, 100) # ignore dt > 100 ms\n",
    "plt.show()"
   ]
  },
  {
   "cell_type": "code",
   "execution_count": null,
   "metadata": {
    "collapsed": false
   },
   "outputs": [],
   "source": [
    "fig, ax1 = plt.subplots()\n",
    "delta = sensor.delta*180/np.pi\n",
    "ax1.plot(sensor.time, delta, 'b-')\n",
    "ax1.set_xlabel('time [s]')\n",
    "ax1.set_ylabel('delta [deg]', color='b')\n",
    "print('delta -- mean: {:0.6f}, std: {:0.6f}'.format(np.mean(delta), np.std(delta)))\n",
    "\n",
    "deltad = sensor.deltad*180/np.pi\n",
    "ax2 = ax1.twinx()\n",
    "ax2.plot(sensor.time, deltad, 'r-')\n",
    "ax2.set_ylabel('deltad [deg/s]', color='r')\n",
    "print('deltad -- mean: {:0.6f}, std: {:0.6f}'.format(np.mean(deltad), np.std(deltad)))\n",
    "\n",
    "align_yaxis(ax1, 0, ax2, 0)\n",
    "ax1.grid()\n",
    "fig.suptitle('{} - {}'.format(sensor.filepath, 'delta, deltad'))\n",
    "plt.show()"
   ]
  },
  {
   "cell_type": "code",
   "execution_count": null,
   "metadata": {
    "collapsed": false
   },
   "outputs": [],
   "source": [
    "plot_lean_steer(sensor, actuator)"
   ]
  },
  {
   "cell_type": "code",
   "execution_count": null,
   "metadata": {
    "collapsed": false
   },
   "outputs": [],
   "source": [
    "lim = axes[1].get_ylim()\n",
    "orig_lim = (-20, 100)\n",
    "\n"
   ]
  },
  {
   "cell_type": "code",
   "execution_count": null,
   "metadata": {
    "collapsed": false
   },
   "outputs": [],
   "source": [
    "fig, axes = plot_lean_steer_yy(sensor, actuator)\n",
    "print(axes[0].transData.transform((0, 0)))\n",
    "print(axes[1].transData.transform((0, 0)))\n"
   ]
  },
  {
   "cell_type": "code",
   "execution_count": null,
   "metadata": {
    "collapsed": false
   },
   "outputs": [],
   "source": [
    "fig, axes = plot_subplots(sensor, actuator, ('delta', 'deltad', 'torque', 'phi'))"
   ]
  },
  {
   "cell_type": "code",
   "execution_count": null,
   "metadata": {
    "collapsed": false
   },
   "outputs": [],
   "source": [
    "plot_subplots(sensor, actuator, ('torque',))"
   ]
  },
  {
   "cell_type": "code",
   "execution_count": null,
   "metadata": {
    "collapsed": false
   },
   "outputs": [],
   "source": [
    "plot_lean_steer(sensor, actuator)"
   ]
  },
  {
   "cell_type": "code",
   "execution_count": null,
   "metadata": {
    "collapsed": false
   },
   "outputs": [],
   "source": [
    "fig, axes = plot_singleplot(sensor, actuator, ('delta', 'deltad', 'torque', 'phi'))"
   ]
  },
  {
   "cell_type": "code",
   "execution_count": null,
   "metadata": {
    "collapsed": false
   },
   "outputs": [],
   "source": [
    "fig, ax = plot_lean_steer(sensor, actuator)"
   ]
  },
  {
   "cell_type": "code",
   "execution_count": null,
   "metadata": {
    "collapsed": false
   },
   "outputs": [],
   "source": [
    "a = np.ones((3, 3))\n",
    "a[:,1]  = 2*a[:,1]\n",
    "print(a)"
   ]
  },
  {
   "cell_type": "code",
   "execution_count": null,
   "metadata": {
    "collapsed": false
   },
   "outputs": [],
   "source": [
    "fig, ax = plt.subplots()\n",
    "deltad = sensor.deltad*180/np.pi\n",
    "ax.plot(sensor.time, deltad,)\n",
    "ax.set_ylabel('deltad [deg/s]')\n",
    "ax.set_xlabel('time [s]')\n",
    "print('deltad -- mean: {:0.6f}, std: {:0.6f}'.format(np.mean(deltad), np.std(deltad)))\n",
    "\n",
    "plt.show()"
   ]
  },
  {
   "cell_type": "code",
   "execution_count": null,
   "metadata": {
    "collapsed": false
   },
   "outputs": [],
   "source": [
    "deltad = sensor.deltad * 180 / np.pi\n",
    "sample_period = np.round(np.mean(sensor.dt)*100)/100\n",
    "sample_rate = 1/sample_period\n",
    "cutoff = 5\n",
    "order = 4\n",
    "rs1 = 0.2\n",
    "rs2 = 10\n",
    "\n",
    "#filters = (butter, cheby1, cheby2)\n",
    "filters = (butter,)\n",
    "filter_coeffs = {\n",
    "    butter: butter(order, cutoff/(0.5*sample_rate), btype='low', analog=False),\n",
    "    cheby1: cheby1(order, rs1, cutoff/(0.5*sample_rate), btype='low', analog=False),\n",
    "    cheby2: cheby2(order, rs2, cutoff/(0.5*sample_rate), btype='low', analog=False),\n",
    "}\n",
    "\n",
    "def color_cycle(n):\n",
    "    return iter(cm.Accent(np.linspace(0, 1, 5)))\n",
    "\n",
    "def filter_data(filter_type, data):\n",
    "    if filter_type == medfilt:\n",
    "        return medfilt(data, 5)\n",
    "    b, a = filter_coeffs[filter_type]\n",
    "    return lfilter(b, a, data)\n",
    "\n",
    "def plot_freqresp(filter_type, ax, color):\n",
    "    if filter_type == medfilt:\n",
    "        return\n",
    "    b, a = filter_coeffs[filter_type]\n",
    "    w, h = freqz(b, a, worN=8000)\n",
    "    ax.plot(0.5*sample_rate*w/np.pi, np.abs(h), color=color)\n",
    "    ax.plot(cutoff, 0.5*np.sqrt(2), 'ko')\n",
    "    ax.axvline(cutoff, color='k')\n",
    "    ax.set_xlim(0, 0.5*sample_rate)\n",
    "    ax.set_xlabel('Frequency [Hz]')\n",
    "    ax.grid()\n",
    "\n",
    "def plot_filterdata(filter_type, ax, color):\n",
    "    data = filter_data(filter_type, deltad)\n",
    "    ax.plot(sensor.time, data, '-', color=color, linewidth=2, label=filter_type.__name__)\n",
    "    \n",
    "deltad_mean = np.mean(deltad)\n",
    "deltad_std = np.std(deltad)\n",
    "\n",
    "fig, (ax1, ax2) = plt.subplots(2, 1)\n",
    "colors = color_cycle(len(filters) + 2)\n",
    "plt.title(\"Lowpass Filter Frequency Response\")\n",
    "for f in filters:\n",
    "    c = next(colors)\n",
    "    plot_freqresp(f, ax1, c)\n",
    "    plot_filterdata(f, ax2, c)\n",
    "c = next(colors)\n",
    "c[-1] = 0.5 # reduce alpha\n",
    "ax2.plot(sensor.time, deltad, '--', color=c, label='deltad')\n",
    "ax2.set_xlabel('Time [sec]')\n",
    "ax2.set_ylabel('deltad [deg/s]')\n",
    "ax2.set_xlim([sensor.time[0], sensor.time[-1]])\n",
    "ax2.set_ylim([deltad_mean-deltad_std, deltad_mean+deltad_std])\n",
    "ax2.grid()\n",
    "plt.legend()\n",
    "plt.subplots_adjust(hspace=0.35)\n",
    "plt.show()\n",
    "\n"
   ]
  },
  {
   "cell_type": "code",
   "execution_count": null,
   "metadata": {
    "collapsed": false
   },
   "outputs": [],
   "source": [
    "import collections\n",
    "b, a = butter(5, 5/(0.5*100), btype='low', analog=False)\n",
    "x = collections.deque(5*[0], 5)\n",
    "l = [(-i, a) for i, a in enumerate(a[1:], 1)]\n",
    "print(l)\n",
    "print(a)"
   ]
  }
 ],
 "metadata": {
  "kernelspec": {
   "display_name": "Python 3",
   "language": "python",
   "name": "python3"
  },
  "language_info": {
   "codemirror_mode": {
    "name": "ipython",
    "version": 3
   },
   "file_extension": ".py",
   "mimetype": "text/x-python",
   "name": "python",
   "nbconvert_exporter": "python",
   "pygments_lexer": "ipython3",
   "version": "3.4.3"
  }
 },
 "nbformat": 4,
 "nbformat_minor": 0
}
