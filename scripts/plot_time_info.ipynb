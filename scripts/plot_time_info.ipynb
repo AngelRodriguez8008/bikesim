{
 "cells": [
  {
   "cell_type": "code",
   "execution_count": 1,
   "metadata": {
    "collapsed": false
   },
   "outputs": [],
   "source": [
    "# reloading magic\n",
    "%load_ext autoreload\n",
    "%autoreload 2"
   ]
  },
  {
   "cell_type": "code",
   "execution_count": 2,
   "metadata": {
    "collapsed": false
   },
   "outputs": [],
   "source": [
    "import os\n",
    "import sys\n",
    "import numpy as np\n",
    "import matplotlib.pyplot as plt\n",
    "import matplotlib.cm as cm\n",
    "from scipy.signal import butter, cheby1, cheby2, medfilt\n",
    "from scipy.signal import lfilter, freqz\n",
    "import seaborn as sns\n",
    "%matplotlib qt"
   ]
  },
  {
   "cell_type": "code",
   "execution_count": 3,
   "metadata": {
    "collapsed": true
   },
   "outputs": [],
   "source": [
    "# WINDOWS\n",
    "comm_path = os.path.normpath('C:/cygwin64/home/oliverlee/repos/bikesim/comm')\n",
    "scripts_path = os.path.normpath('C:/cygwin64/home/oliverlee/repos/bikesim/scripts')"
   ]
  },
  {
   "cell_type": "code",
   "execution_count": null,
   "metadata": {
    "collapsed": true
   },
   "outputs": [],
   "source": [
    "# OSX\n",
    "comm_path = os.path.normpath('/Users/oliverlee/repos/bikesim/comm')\n",
    "scripts_path = os.path.normpath('/Users/oliverlee/repos/bikesim/scripts')"
   ]
  },
  {
   "cell_type": "code",
   "execution_count": 3,
   "metadata": {
    "collapsed": true
   },
   "outputs": [],
   "source": [
    "# linux\n",
    "comm_path = os.path.normpath('/home/oliver/repos/bikesim/comm')\n",
    "scripts_path = os.path.normpath('/home/oliver/repos/bikesim/scripts')"
   ]
  },
  {
   "cell_type": "code",
   "execution_count": 4,
   "metadata": {
    "collapsed": false
   },
   "outputs": [],
   "source": [
    "for d in (comm_path, scripts_path):\n",
    "    if d not in sys.path:\n",
    "        sys.path.append(d)\n",
    "from parse_data import *"
   ]
  },
  {
   "cell_type": "code",
   "execution_count": 20,
   "metadata": {
    "collapsed": true
   },
   "outputs": [],
   "source": [
    "log_file = 'C:/cygwin64/home/oliverlee/repos/bikesim/comm/data/log_150618_123728_UTC_100Hz_nofilter'"
   ]
  },
  {
   "cell_type": "code",
   "execution_count": 4,
   "metadata": {
    "collapsed": false
   },
   "outputs": [],
   "source": [
    "log_file = 'C:/cygwin64/home/oliverlee/repos/bikesim/comm/data/log_150618_124057_UTC_50Hz_nofilter'"
   ]
  },
  {
   "cell_type": "code",
   "execution_count": 103,
   "metadata": {
    "collapsed": false
   },
   "outputs": [],
   "source": [
    "log_file = 'C:/cygwin64/home/oliverlee/repos/bikesim/comm/log_150622_175024_UTC'"
   ]
  },
  {
   "cell_type": "code",
   "execution_count": 3,
   "metadata": {
    "collapsed": true
   },
   "outputs": [],
   "source": [
    "log_file = '../comm/log_150618_230058_UTC'"
   ]
  },
  {
   "cell_type": "code",
   "execution_count": 5,
   "metadata": {
    "collapsed": false
   },
   "outputs": [],
   "source": [
    "log_file = None"
   ]
  },
  {
   "cell_type": "code",
   "execution_count": 6,
   "metadata": {
    "collapsed": false,
    "scrolled": true
   },
   "outputs": [
    {
     "name": "stdout",
     "output_type": "stream",
     "text": [
      "reading from log file: /home/oliver/repos/bikesim/comm/log_150624_083310_UTC\n"
     ]
    }
   ],
   "source": [
    "# get the most recent log file in the comm_dir if not specified\n",
    "if log_file is None:\n",
    "    logs = [f for f in os.listdir(comm_path)\n",
    "            if f.startswith('log_') and os.path.isfile(os.path.join(comm_path, f))]\n",
    "    logs.sort()\n",
    "    log_file = os.path.join(comm_path, logs[-1])\n",
    "log_file = os.path.normpath(log_file)\n",
    "print('reading from log file: {}'.format(log_file))\n",
    "assert os.path.isfile(log_file)"
   ]
  },
  {
   "cell_type": "code",
   "execution_count": 15,
   "metadata": {
    "collapsed": false
   },
   "outputs": [],
   "source": [
    "sensor, actuator = parse_log(log_file)"
   ]
  },
  {
   "cell_type": "code",
   "execution_count": 8,
   "metadata": {
    "collapsed": false
   },
   "outputs": [
    {
     "name": "stdout",
     "output_type": "stream",
     "text": [
      "sensor time mean = 19.993719 s, std = 0.322871\n",
      "actuator time mean = 19.737591 s, std = 2.533890\n"
     ]
    }
   ],
   "source": [
    "fig1, ax1, hd1 = plot_timeinfo(sensor)\n",
    "if actuator.shape[0] > 1:\n",
    "    fig2, ax2, hd2 = plot_timeinfo(actuator, 100) # ignore dt > 100 ms\n",
    "plt.show()"
   ]
  },
  {
   "cell_type": "code",
   "execution_count": 13,
   "metadata": {
    "collapsed": false
   },
   "outputs": [
    {
     "name": "stdout",
     "output_type": "stream",
     "text": [
      "delta -- mean: 14.724906, std: 10.874523\n",
      "deltad -- mean: -0.753444, std: 29.811441\n"
     ]
    }
   ],
   "source": [
    "fig, ax1 = plt.subplots()\n",
    "delta = sensor.delta*180/np.pi\n",
    "ax1.plot(sensor.time, delta, 'b-')\n",
    "ax1.set_xlabel('time [s]')\n",
    "ax1.set_ylabel('delta [deg]', color='b')\n",
    "print('delta -- mean: {:0.6f}, std: {:0.6f}'.format(np.mean(delta), np.std(delta)))\n",
    "\n",
    "deltad = sensor.deltad*180/np.pi\n",
    "ax2 = ax1.twinx()\n",
    "ax2.plot(sensor.time, deltad, 'r-')\n",
    "ax2.set_ylabel('deltad [deg/s]', color='r')\n",
    "print('deltad -- mean: {:0.6f}, std: {:0.6f}'.format(np.mean(deltad), np.std(deltad)))\n",
    "\n",
    "align_yaxis(ax1, 0, ax2, 0)\n",
    "ax1.grid()\n",
    "fig.suptitle('{} - {}'.format(sensor.filepath, 'delta, deltad'))\n",
    "plt.show()"
   ]
  },
  {
   "cell_type": "code",
   "execution_count": 54,
   "metadata": {
    "collapsed": false
   },
   "outputs": [
    {
     "data": {
      "text/plain": [
       "(<matplotlib.figure.Figure at 0xbb09a20>,\n",
       " <matplotlib.axes._subplots.AxesSubplot at 0xbd37630>)"
      ]
     },
     "execution_count": 54,
     "metadata": {},
     "output_type": "execute_result"
    }
   ],
   "source": [
    "plot_lean_steer(sensor, actuator)"
   ]
  },
  {
   "cell_type": "code",
   "execution_count": 70,
   "metadata": {
    "collapsed": false
   },
   "outputs": [
    {
     "ename": "TypeError",
     "evalue": "unorderable types: map() > int()",
     "output_type": "error",
     "traceback": [
      "\u001b[1;31m---------------------------------------------------------------------------\u001b[0m",
      "\u001b[1;31mTypeError\u001b[0m                                 Traceback (most recent call last)",
      "\u001b[1;32m<ipython-input-70-0f6e7daefcf5>\u001b[0m in \u001b[0;36m<module>\u001b[1;34m()\u001b[0m\n\u001b[0;32m      2\u001b[0m \u001b[0morig_lim\u001b[0m \u001b[1;33m=\u001b[0m \u001b[1;33m(\u001b[0m\u001b[1;33m-\u001b[0m\u001b[1;36m20\u001b[0m\u001b[1;33m,\u001b[0m \u001b[1;36m100\u001b[0m\u001b[1;33m)\u001b[0m\u001b[1;33m\u001b[0m\u001b[0m\n\u001b[0;32m      3\u001b[0m \u001b[1;33m\u001b[0m\u001b[0m\n\u001b[1;32m----> 4\u001b[1;33m \u001b[0mmap\u001b[0m\u001b[1;33m(\u001b[0m\u001b[0mabs\u001b[0m\u001b[1;33m,\u001b[0m \u001b[0morig_lim\u001b[0m\u001b[1;33m)\u001b[0m \u001b[1;33m>\u001b[0m \u001b[1;36m90\u001b[0m\u001b[1;33m\u001b[0m\u001b[0m\n\u001b[0m",
      "\u001b[1;31mTypeError\u001b[0m: unorderable types: map() > int()"
     ]
    }
   ],
   "source": [
    "lim = axes[1].get_ylim()\n",
    "orig_lim = (-20, 100)\n",
    "\n"
   ]
  },
  {
   "cell_type": "code",
   "execution_count": 62,
   "metadata": {
    "collapsed": false
   },
   "outputs": [
    {
     "name": "stdout",
     "output_type": "stream",
     "text": [
      "(-20.0, 100.0)\n",
      "(-40.0, 80.0)\n",
      "[-1086.83865427   161.33333333]\n",
      "[-1086.83865427   161.33333333]\n"
     ]
    }
   ],
   "source": [
    "fig, axes = plot_lean_steer_yy(sensor, actuator)\n",
    "print(axes[0].transData.transform((0, 0)))\n",
    "print(axes[1].transData.transform((0, 0)))\n"
   ]
  },
  {
   "cell_type": "code",
   "execution_count": 17,
   "metadata": {
    "collapsed": false
   },
   "outputs": [],
   "source": [
    "fig, axes = plot_subplots(sensor, actuator, ('delta', 'deltad', 'torque', 'phi'))"
   ]
  },
  {
   "cell_type": "code",
   "execution_count": 16,
   "metadata": {
    "collapsed": false
   },
   "outputs": [
    {
     "data": {
      "text/plain": [
       "(<matplotlib.figure.Figure at 0x8d1a080>,\n",
       " (<matplotlib.axes._subplots.AxesSubplot at 0x8ca4b70>,))"
      ]
     },
     "execution_count": 16,
     "metadata": {},
     "output_type": "execute_result"
    }
   ],
   "source": [
    "plot_subplots(sensor, actuator, ('torque',))"
   ]
  },
  {
   "cell_type": "code",
   "execution_count": 17,
   "metadata": {
    "collapsed": false
   },
   "outputs": [
    {
     "data": {
      "text/plain": [
       "(<matplotlib.figure.Figure at 0x8c91400>,\n",
       " <matplotlib.axes._subplots.AxesSubplot at 0x8cca7b8>)"
      ]
     },
     "execution_count": 17,
     "metadata": {},
     "output_type": "execute_result"
    }
   ],
   "source": [
    "plot_lean_steer(sensor, actuator)"
   ]
  },
  {
   "cell_type": "code",
   "execution_count": 18,
   "metadata": {
    "collapsed": false
   },
   "outputs": [],
   "source": [
    "fig, axes = plot_singleplot(sensor, actuator, ('delta', 'deltad', 'torque', 'phi'))"
   ]
  },
  {
   "cell_type": "code",
   "execution_count": 23,
   "metadata": {
    "collapsed": false
   },
   "outputs": [],
   "source": [
    "fig, ax = plot_lean_steer(sensor, actuator)"
   ]
  },
  {
   "cell_type": "code",
   "execution_count": 15,
   "metadata": {
    "collapsed": false
   },
   "outputs": [
    {
     "name": "stdout",
     "output_type": "stream",
     "text": [
      "[[ 1.  2.  1.]\n",
      " [ 1.  2.  1.]\n",
      " [ 1.  2.  1.]]\n"
     ]
    }
   ],
   "source": [
    "a = np.ones((3, 3))\n",
    "a[:,1]  = 2*a[:,1]\n",
    "print(a)"
   ]
  },
  {
   "cell_type": "code",
   "execution_count": 58,
   "metadata": {
    "collapsed": false
   },
   "outputs": [
    {
     "name": "stdout",
     "output_type": "stream",
     "text": [
      "deltad -- mean: -0.351705, std: 12.126472\n"
     ]
    }
   ],
   "source": [
    "fig, ax = plt.subplots()\n",
    "deltad = sensor.deltad*180/np.pi\n",
    "ax.plot(sensor.time, deltad,)\n",
    "ax.set_ylabel('deltad [deg/s]')\n",
    "ax.set_xlabel('time [s]')\n",
    "print('deltad -- mean: {:0.6f}, std: {:0.6f}'.format(np.mean(deltad), np.std(deltad)))\n",
    "\n",
    "plt.show()"
   ]
  },
  {
   "cell_type": "code",
   "execution_count": 66,
   "metadata": {
    "collapsed": false
   },
   "outputs": [],
   "source": [
    "deltad = sensor.deltad * 180 / np.pi\n",
    "sample_period = np.round(np.mean(sensor.dt)*100)/100\n",
    "sample_rate = 1/sample_period\n",
    "cutoff = 5\n",
    "order = 4\n",
    "rs1 = 0.2\n",
    "rs2 = 10\n",
    "\n",
    "#filters = (butter, cheby1, cheby2)\n",
    "filters = (butter,)\n",
    "filter_coeffs = {\n",
    "    butter: butter(order, cutoff/(0.5*sample_rate), btype='low', analog=False),\n",
    "    cheby1: cheby1(order, rs1, cutoff/(0.5*sample_rate), btype='low', analog=False),\n",
    "    cheby2: cheby2(order, rs2, cutoff/(0.5*sample_rate), btype='low', analog=False),\n",
    "}\n",
    "\n",
    "def color_cycle(n):\n",
    "    return iter(cm.Accent(np.linspace(0, 1, 5)))\n",
    "\n",
    "def filter_data(filter_type, data):\n",
    "    if filter_type == medfilt:\n",
    "        return medfilt(data, 5)\n",
    "    b, a = filter_coeffs[filter_type]\n",
    "    return lfilter(b, a, data)\n",
    "\n",
    "def plot_freqresp(filter_type, ax, color):\n",
    "    if filter_type == medfilt:\n",
    "        return\n",
    "    b, a = filter_coeffs[filter_type]\n",
    "    w, h = freqz(b, a, worN=8000)\n",
    "    ax.plot(0.5*sample_rate*w/np.pi, np.abs(h), color=color)\n",
    "    ax.plot(cutoff, 0.5*np.sqrt(2), 'ko')\n",
    "    ax.axvline(cutoff, color='k')\n",
    "    ax.set_xlim(0, 0.5*sample_rate)\n",
    "    ax.set_xlabel('Frequency [Hz]')\n",
    "    ax.grid()\n",
    "\n",
    "def plot_filterdata(filter_type, ax, color):\n",
    "    data = filter_data(filter_type, deltad)\n",
    "    ax.plot(sensor.time, data, '-', color=color, linewidth=2, label=filter_type.__name__)\n",
    "    \n",
    "deltad_mean = np.mean(deltad)\n",
    "deltad_std = np.std(deltad)\n",
    "\n",
    "fig, (ax1, ax2) = plt.subplots(2, 1)\n",
    "colors = color_cycle(len(filters) + 2)\n",
    "plt.title(\"Lowpass Filter Frequency Response\")\n",
    "for f in filters:\n",
    "    c = next(colors)\n",
    "    plot_freqresp(f, ax1, c)\n",
    "    plot_filterdata(f, ax2, c)\n",
    "c = next(colors)\n",
    "c[-1] = 0.5 # reduce alpha\n",
    "ax2.plot(sensor.time, deltad, '--', color=c, label='deltad')\n",
    "ax2.set_xlabel('Time [sec]')\n",
    "ax2.set_ylabel('deltad [deg/s]')\n",
    "ax2.set_xlim([sensor.time[0], sensor.time[-1]])\n",
    "ax2.set_ylim([deltad_mean-deltad_std, deltad_mean+deltad_std])\n",
    "ax2.grid()\n",
    "plt.legend()\n",
    "plt.subplots_adjust(hspace=0.35)\n",
    "plt.show()\n",
    "\n"
   ]
  },
  {
   "cell_type": "code",
   "execution_count": 71,
   "metadata": {
    "collapsed": false
   },
   "outputs": [
    {
     "name": "stdout",
     "output_type": "stream",
     "text": [
      "[(-1, -3.984543119612336), (-2, 6.4348670902758682), (-3, -5.2536151703522682), (-4, 2.1651329097241323), (-5, -0.35992824506355614)]\n",
      "[ 1.         -3.98454312  6.43486709 -5.25361517  2.16513291 -0.35992825]\n"
     ]
    }
   ],
   "source": [
    "import collections\n",
    "b, a = butter(5, 5/(0.5*100), btype='low', analog=False)\n",
    "x = collections.deque(5*[0], 5)\n",
    "l = [(-i, a) for i, a in enumerate(a[1:], 1)]\n",
    "print(l)\n",
    "print(a)"
   ]
  }
 ],
 "metadata": {
  "kernelspec": {
   "display_name": "Python 3",
   "language": "python",
   "name": "python3"
  },
  "language_info": {
   "codemirror_mode": {
    "name": "ipython",
    "version": 3
   },
   "file_extension": ".py",
   "mimetype": "text/x-python",
   "name": "python",
   "nbconvert_exporter": "python",
   "pygments_lexer": "ipython3",
   "version": "3.4.3"
  }
 },
 "nbformat": 4,
 "nbformat_minor": 0
}
