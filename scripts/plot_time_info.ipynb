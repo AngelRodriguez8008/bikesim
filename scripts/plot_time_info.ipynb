{
 "cells": [
  {
   "cell_type": "code",
   "execution_count": 1,
   "metadata": {
    "collapsed": false
   },
   "outputs": [],
   "source": [
    "# reloading magic\n",
    "%load_ext autoreload\n",
    "%autoreload 2"
   ]
  },
  {
   "cell_type": "code",
   "execution_count": 2,
   "metadata": {
    "collapsed": false
   },
   "outputs": [],
   "source": [
    "import numpy as np\n",
    "import matplotlib.pyplot as plt\n",
    "%matplotlib qt"
   ]
  },
  {
   "cell_type": "code",
   "execution_count": 3,
   "metadata": {
    "collapsed": false
   },
   "outputs": [],
   "source": [
    "import os\n",
    "import sys\n",
    "comm_path = os.path.normpath('C:/cygwin64/home/oliverlee/repos/bikesim/comm')\n",
    "scripts_path = os.path.normpath('C:/cygwin64/home/oliverlee/repos/bikesim/scripts')\n",
    "for d in (comm_path, scripts_path):\n",
    "    if d not in sys.path:\n",
    "        sys.path.append(d)\n",
    "from parse_data import *"
   ]
  },
  {
   "cell_type": "code",
   "execution_count": 23,
   "metadata": {
    "collapsed": false
   },
   "outputs": [],
   "source": [
    "log_file = None"
   ]
  },
  {
   "cell_type": "code",
   "execution_count": 20,
   "metadata": {
    "collapsed": true
   },
   "outputs": [],
   "source": [
    "log_file = 'C:/cygwin64/home/oliverlee/repos/bikesim/comm/data/log_150618_123728_UTC_100Hz_nofilter'"
   ]
  },
  {
   "cell_type": "code",
   "execution_count": 4,
   "metadata": {
    "collapsed": false
   },
   "outputs": [],
   "source": [
    "log_file = 'C:/cygwin64/home/oliverlee/repos/bikesim/comm/data/log_150618_124057_UTC_50Hz_nofilter'"
   ]
  },
  {
   "cell_type": "code",
   "execution_count": 31,
   "metadata": {
    "collapsed": false
   },
   "outputs": [],
   "source": [
    "log_file = 'C:/cygwin64/home/oliverlee/repos/bikesim/comm/log_150622_175024_UTC'"
   ]
  },
  {
   "cell_type": "code",
   "execution_count": 13,
   "metadata": {
    "collapsed": true
   },
   "outputs": [],
   "source": [
    "log_file = '../comm/log_150618_230058_UTC'"
   ]
  },
  {
   "cell_type": "code",
   "execution_count": 5,
   "metadata": {
    "collapsed": false
   },
   "outputs": [],
   "source": [
    "log_file = None"
   ]
  },
  {
   "cell_type": "code",
   "execution_count": 6,
   "metadata": {
    "collapsed": false,
    "scrolled": true
   },
   "outputs": [
    {
     "name": "stdout",
     "output_type": "stream",
     "text": [
      "reading from log file: C:\\cygwin64\\home\\oliverlee\\repos\\bikesim\\comm\\log_150624_085204_UTC\n"
     ]
    }
   ],
   "source": [
    "# get the most recent log file in the comm_dir if not specified\n",
    "if log_file is None:\n",
    "    logs = [f for f in os.listdir(comm_path)\n",
    "            if f.startswith('log_') and os.path.isfile(os.path.join(comm_path, f))]\n",
    "    logs.sort()\n",
    "    log_file = os.path.join(comm_path, logs[-1])\n",
    "log_file = os.path.normpath(log_file)\n",
    "print('reading from log file: {}'.format(log_file))\n",
    "assert os.path.isfile(log_file)"
   ]
  },
  {
   "cell_type": "code",
   "execution_count": 7,
   "metadata": {
    "collapsed": false
   },
   "outputs": [],
   "source": [
    "sensor, actuator = parse_log(log_file)"
   ]
  },
  {
   "cell_type": "code",
   "execution_count": 17,
   "metadata": {
    "collapsed": false
   },
   "outputs": [
    {
     "name": "stdout",
     "output_type": "stream",
     "text": [
      "sensor time median = 0.020002 s, std = 0.010285\n"
      "sensor time mean = 19.999266 s, std = 0.981668\n",
      "actuator time mean = 20.015099 s, std = 0.506084\n"
     ]
    }
   ],
   "source": [
    "fig1, ax1, hd1 = plot_timeinfo(sensor)\n",
    "if actuator.shape[0] > 1:\n",
    "    fig2, ax2, hd2 = plot_timeinfo(actuator, 0.1)\n",
    "plt.show()"
   ]
  },
  {
   "cell_type": "code",
   "execution_count": 14,
   "metadata": {
    "collapsed": false
   },
   "outputs": [
    {
     "name": "stdout",
     "output_type": "stream",
     "text": [
      "delta -- mean: -1.398288, std: 7.738919\n",
      "deltad -- mean: -0.068980, std: 15.941385\n"
     ]
    }
   ],
   "source": [
    "fix, ax1 = plt.subplots()\n",
    "delta = sensor.delta*180/np.pi\n",
    "ax1.plot(sensor.time, delta, 'b-')\n",
    "ax1.set_xlabel('time [s]')\n",
    "ax1.set_ylabel('delta [deg]', color='b')\n",
    "print('delta -- mean: {:0.6f}, std: {:0.6f}'.format(np.mean(delta), np.std(delta)))\n",
    "\n",
    "deltad = sensor.deltad*180/np.pi\n",
    "ax2 = ax1.twinx()\n",
    "ax2.plot(sensor.time, deltad, 'r-')\n",
    "ax2.set_ylabel('deltad [deg/s]', color='r')\n",
    "print('deltad -- mean: {:0.6f}, std: {:0.6f}'.format(np.mean(deltad), np.std(deltad)))\n",
    "\n",
    "align_yaxis(ax1, 0, ax2, 0)\n",
    "ax1.grid()\n",
    "fig.suptitle('{} - {}'.format(sensor.filepath, 'delta, deltad'))\n",
    "plt.show()"
   ]
  },
  {
   "cell_type": "code",
   "execution_count": 28,
   "metadata": {
    "collapsed": false
   },
   "outputs": [],
   "source": [
    "fig, axes = plot_subplots(sensor, actuator, ('delta', 'deltad', 'torque'))"
   ]
  },
  {
   "cell_type": "code",
   "execution_count": 26,
   "metadata": {
    "collapsed": false
   },
   "outputs": [
    {
     "name": "stdout",
     "output_type": "stream",
     "text": [
      "False\n"
     ]
    }
   ],
   "source": [
    "print(set.intersection(set(actuator.fields), set('torque')) is True)"
   ]
  },
  {
   "cell_type": "code",
   "execution_count": 32,
   "metadata": {
    "collapsed": false
   },
   "outputs": [],
   "source": [
    "fig, axes = plot_singleplot(sensor, actuator, ('delta', 'deltad', 'torque'))"
   ]
  },
  {
   "cell_type": "code",
   "execution_count": 22,
   "metadata": {
    "collapsed": false
   },
   "outputs": [
    {
     "name": "stdout",
     "output_type": "stream",
     "text": [
      "[0, 1, 2]\n",
      "[1, 2]\n"
     ]
    }
   ],
   "source": [
    "a = list(range(3))\n",
    "print(a)\n",
    "print(a[-2:])"
   ]
  },
  {
   "cell_type": "code",
   "execution_count": 58,
   "metadata": {
    "collapsed": false
   },
   "outputs": [
    {
     "name": "stdout",
     "output_type": "stream",
     "text": [
      "deltad -- mean: -0.351705, std: 12.126472\n"
     ]
    }
   ],
   "source": [
    "fig, ax = plt.subplots()\n",
    "deltad = sensor.deltad*180/np.pi\n",
    "ax.plot(sensor.time, deltad,)\n",
    "ax.set_ylabel('deltad [deg/s]')\n",
    "ax.set_xlabel('time [s]')\n",
    "print('deltad -- mean: {:0.6f}, std: {:0.6f}'.format(np.mean(deltad), np.std(deltad)))\n",
    "\n",
    "plt.show()"
   ]
  },
  {
   "cell_type": "code",
   "execution_count": null,
   "metadata": {
    "collapsed": true
   },
   "outputs": [],
   "source": []
  }
 ],
 "metadata": {
  "kernelspec": {
   "display_name": "Python 3",
   "language": "python",
   "name": "python3"
  },
  "language_info": {
   "codemirror_mode": {
    "name": "ipython",
    "version": 3
   },
   "file_extension": ".py",
   "mimetype": "text/x-python",
   "name": "python",
   "nbconvert_exporter": "python",
   "pygments_lexer": "ipython3",
   "version": "3.4.3"
  }
 },
 "nbformat": 4,
 "nbformat_minor": 0
}
