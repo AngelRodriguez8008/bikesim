{
 "cells": [
  {
   "cell_type": "code",
   "execution_count": 1,
   "metadata": {
    "collapsed": false
   },
   "outputs": [],
   "source": [
    "# reloading magic\n",
    "%load_ext autoreload\n",
    "%autoreload 2"
   ]
  },
  {
   "cell_type": "code",
   "execution_count": 2,
   "metadata": {
    "collapsed": false
   },
   "outputs": [],
   "source": [
    "import numpy as np\n",
    "import matplotlib.pyplot as plt\n",
    "%matplotlib qt"
   ]
  },
  {
   "cell_type": "code",
   "execution_count": 3,
   "metadata": {
    "collapsed": false
   },
   "outputs": [],
   "source": [
    "import os\n",
    "import sys\n",
    "comm_path = os.path.normpath('C:/cygwin64/home/oliverlee/repos/bikesim/comm')\n",
    "scripts_path = os.path.normpath('C:/cygwin64/home/oliverlee/repos/bikesim/scripts')\n",
    "for d in (comm_path, scripts_path):\n",
    "    if d not in sys.path:\n",
    "        sys.path.append(d)\n",
    "from parse_data import *"
   ]
  },
  {
   "cell_type": "code",
   "execution_count": 23,
   "metadata": {
    "collapsed": false
   },
   "outputs": [],
   "source": [
    "log_file = None"
   ]
  },
  {
   "cell_type": "code",
   "execution_count": 20,
   "metadata": {
    "collapsed": true
   },
   "outputs": [],
   "source": [
    "log_file = 'C:/cygwin64/home/oliverlee/repos/bikesim/comm/data/log_150618_123728_UTC_100Hz_nofilter'"
   ]
  },
  {
   "cell_type": "code",
   "execution_count": 4,
   "metadata": {
    "collapsed": false
   },
   "outputs": [],
   "source": [
    "log_file = 'C:/cygwin64/home/oliverlee/repos/bikesim/comm/data/log_150618_124057_UTC_50Hz_nofilter'"
   ]
  },
  {
   "cell_type": "code",
   "execution_count": 31,
   "metadata": {
    "collapsed": false
   },
   "outputs": [],
   "source": [
    "log_file = 'C:/cygwin64/home/oliverlee/repos/bikesim/comm/data/log_150618_173341_UTC_txbytes'"
   ]
  },
  {
   "cell_type": "code",
   "execution_count": 5,
   "metadata": {
    "collapsed": false
   },
   "outputs": [
    {
     "name": "stdout",
     "output_type": "stream",
     "text": [
      "reading from log file: C:\\cygwin64\\home\\oliverlee\\repos\\bikesim\\comm\\data\\log_150618_124057_UTC_50Hz_nofilter\n"
     ]
    }
   ],
   "source": [
    "# get the most recent log file in the comm_dir if not specified\n",
    "if log_file is None:\n",
    "    logs = [f for f in os.listdir(comm_path)\n",
    "            if f.startswith('log_') and os.path.isfile(os.path.join(comm_path, f))]\n",
    "    logs.sort()\n",
    "    log_file = os.path.join(comm_path, logs[-1])\n",
    "log_file = os.path.normpath(log_file)\n",
    "print('reading from log file: {}'.format(log_file))\n",
    "assert os.path.isfile(log_file)"
   ]
  },
  {
   "cell_type": "code",
   "execution_count": 6,
   "metadata": {
    "collapsed": false
   },
   "outputs": [],
   "source": [
    "sensor, actuator = parse_log(log_file)"
   ]
  },
  {
   "cell_type": "code",
   "execution_count": 12,
   "metadata": {
    "collapsed": false
   },
   "outputs": [
    {
     "name": "stdout",
     "output_type": "stream",
     "text": [
      "sensor time median = 0.020002 s, std = 0.010285\n"
     ]
    }
   ],
   "source": [
    "fig1, ax1, hd1 = plot_timeinfo(sensor)\n",
    "if actuator.shape[0] > 1:\n",
    "    fig2, ax2, hd2 = plot_timeinfo(actuator, 0.1)\n",
    "plt.show()"
   ]
  },
  {
   "cell_type": "code",
   "execution_count": 24,
   "metadata": {
    "collapsed": false
   },
   "outputs": [
    {
     "name": "stdout",
     "output_type": "stream",
     "text": [
      "delta -- mean: 3.200146, std: 0.097831\n",
      "deltad -- mean: -0.123686, std: 0.380169\n"
     ]
    }
   ],
   "source": [
    "fix, ax1 = plt.subplots()\n",
    "delta = sensor.delta*180/np.pi\n",
    "ax1.plot(sensor.time, delta, 'b-')\n",
    "ax1.set_xlabel('time [s]')\n",
    "ax1.set_ylabel('delta [deg]', color='b')\n",
    "print('delta -- mean: {:0.6f}, std: {:0.6f}'.format(np.mean(delta), np.std(delta)))\n",
    "\n",
    "deltad = sensor.deltad*180/np.pi\n",
    "ax2 = ax1.twinx()\n",
    "ax2.plot(sensor.time, deltad, 'r-')\n",
    "ax2.set_ylabel('deltad [deg/s]', color='r')\n",
    "print('deltad -- mean: {:0.6f}, std: {:0.6f}'.format(np.mean(deltad), np.std(deltad)))\n",
    "\n",
    "plt.show()"
   ]
  },
  {
   "cell_type": "code",
   "execution_count": null,
   "metadata": {
    "collapsed": true
   },
   "outputs": [],
   "source": []
  }
 ],
 "metadata": {
  "kernelspec": {
   "display_name": "Python 3",
   "language": "python",
   "name": "python3"
  },
  "language_info": {
   "codemirror_mode": {
    "name": "ipython",
    "version": 3
   },
   "file_extension": ".py",
   "mimetype": "text/x-python",
   "name": "python",
   "nbconvert_exporter": "python",
   "pygments_lexer": "ipython3",
   "version": "3.4.3"
  }
 },
 "nbformat": 4,
 "nbformat_minor": 0
}
