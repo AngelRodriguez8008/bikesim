{
 "cells": [
  {
   "cell_type": "code",
   "execution_count": 1,
   "metadata": {
    "collapsed": false
   },
   "outputs": [],
   "source": [
    "# reloading magic\n",
    "%load_ext autoreload\n",
    "%autoreload 2"
   ]
  },
  {
   "cell_type": "code",
   "execution_count": 2,
   "metadata": {
    "collapsed": false
   },
   "outputs": [],
   "source": [
    "log_file = None"
   ]
  },
  {
   "cell_type": "code",
   "execution_count": 3,
   "metadata": {
    "collapsed": false
   },
   "outputs": [],
   "source": [
    "import numpy as np\n",
    "import matplotlib.pyplot as plt\n",
    "%matplotlib qt"
   ]
  },
  {
   "cell_type": "code",
   "execution_count": 4,
   "metadata": {
    "collapsed": false
   },
   "outputs": [],
   "source": [
    "import os\n",
    "import sys\n",
    "comm_path = os.path.normpath('C:/cygwin64/home/oliverlee/repos/bikesim/comm')\n",
    "scripts_path = os.path.normpath('C:/cygwin64/home/oliverlee/repos/bikesim/scripts')\n",
    "for d in (comm_path, scripts_path):\n",
    "    if d not in sys.path:\n",
    "        sys.path.append(d)\n",
    "from parse_data import *"
   ]
  },
  {
   "cell_type": "code",
   "execution_count": 5,
   "metadata": {
    "collapsed": false
   },
   "outputs": [
    {
     "name": "stdout",
     "output_type": "stream",
     "text": [
      "reading from log file: C:\\cygwin64\\home\\oliverlee\\repos\\bikesim\\comm\\log_150617_162518_UTC\n"
     ]
    }
   ],
   "source": [
    "# get the most recent log file in the comm_dir if not specified\n",
    "if log_file is None:\n",
    "    logs = [f for f in os.listdir(comm_path)\n",
    "            if f.startswith('log_') and os.path.isfile(os.path.join(comm_path, f))]\n",
    "    logs.sort()\n",
    "    log_file = os.path.join(comm_path, logs[-1])\n",
    "print('reading from log file: {}'.format(log_file))"
   ]
  },
  {
   "cell_type": "code",
   "execution_count": 6,
   "metadata": {
    "collapsed": false
   },
   "outputs": [],
   "source": [
    "sensor, actuator = parse_log(log_file)"
   ]
  },
  {
   "cell_type": "code",
   "execution_count": 7,
   "metadata": {
    "collapsed": false
   },
   "outputs": [
    {
     "name": "stdout",
     "output_type": "stream",
     "text": [
      "sensor time median = 0.010001 s, std = 0.006659\n"
     ]
    }
   ],
   "source": [
    "fig1, ax1, hd1 = plot_timeinfo(sensor)\n",
    "#fig2, ax2, hd2 = plot_timeinfo(actuator, 0.1)\n",
    "plt.show()"
   ]
  },
  {
   "cell_type": "code",
   "execution_count": 8,
   "metadata": {
    "collapsed": false
   },
   "outputs": [
    {
     "name": "stdout",
     "output_type": "stream",
     "text": [
      "mean: -0.001781, std: 0.000324\n"
     ]
    }
   ],
   "source": [
    "fix3, ax3 = plt.subplots()\n",
    "ax3.plot(sensor.time, sensor.deltad)\n",
    "ax3.set_xlabel('time [s]')\n",
    "ax3.set_ylabel('deltad [rad/s]')\n",
    "plt.show()\n",
    "print('mean: {:0.6f}, std: {:0.6f}'.format(np.mean(sensor.deltad), np.std(sensor.deltad)))"
   ]
  },
  {
   "cell_type": "code",
   "execution_count": null,
   "metadata": {
    "collapsed": true
   },
   "outputs": [],
   "source": []
  }
 ],
 "metadata": {
  "kernelspec": {
   "display_name": "Python 3",
   "language": "python",
   "name": "python3"
  },
  "language_info": {
   "codemirror_mode": {
    "name": "ipython",
    "version": 3
   },
   "file_extension": ".py",
   "mimetype": "text/x-python",
   "name": "python",
   "nbconvert_exporter": "python",
   "pygments_lexer": "ipython3",
   "version": "3.4.3"
  }
 },
 "nbformat": 4,
 "nbformat_minor": 0
}
