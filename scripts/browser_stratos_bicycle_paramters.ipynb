{
 "cells": [
  {
   "cell_type": "code",
   "execution_count": 1,
   "metadata": {
    "collapsed": true
   },
   "outputs": [],
   "source": [
    "import bicycleparameters as bp\n",
    "from dtk.bicycle import benchmark_to_moore"
   ]
  },
  {
   "cell_type": "code",
   "execution_count": 2,
   "metadata": {
    "collapsed": true
   },
   "outputs": [],
   "source": [
    "bp_data_dir = '/Users/oliverlee/repos/BicycleParameters/data/'"
   ]
  },
  {
   "cell_type": "code",
   "execution_count": 3,
   "metadata": {
    "collapsed": false
   },
   "outputs": [
    {
     "name": "stdout",
     "output_type": "stream",
     "text": [
      "We have foundeth a directory named: /Users/oliverlee/repos/BicycleParameters/data/bicycles/Stratos.\n",
      "Found the RawData directory: /Users/oliverlee/repos/BicycleParameters/data/bicycles/Stratos/RawData\n",
      "Recalcuting the parameters.\n",
      "The glory of the Stratos parameters are upon you!\n",
      "We have foundeth a directory named: /Users/oliverlee/repos/BicycleParameters/data/bicycles/Browser.\n",
      "Found the RawData directory: /Users/oliverlee/repos/BicycleParameters/data/bicycles/Browser/RawData\n",
      "Looks like you've already got some parameters for Browser, use forceRawCalc to recalculate.\n"
     ]
    }
   ],
   "source": [
    "stratos = bp.Bicycle('Stratos', bp_data_dir)\n",
    "browser = bp.Bicycle('Browser', bp_data_dir)"
   ]
  },
  {
   "cell_type": "code",
   "execution_count": 4,
   "metadata": {
    "collapsed": false
   },
   "outputs": [
    {
     "name": "stdout",
     "output_type": "stream",
     "text": [
      "There is no rider on the bicycle, now adding Jason.\n",
      "Loaded the precalculated parameters from /Users/oliverlee/repos/BicycleParameters/data/riders/Jason/Parameters/JasonBrowserBenchmark.txt\n"
     ]
    }
   ],
   "source": [
    "browser.add_rider('Jason')"
   ]
  },
  {
   "cell_type": "code",
   "execution_count": 5,
   "metadata": {
    "collapsed": false
   },
   "outputs": [
    {
     "name": "stdout",
     "output_type": "stream",
     "text": [
      "There is no rider on the bicycle, now adding Jason.\n",
      "No parameter files found, calculating the human configuration.\n",
      "Joint angle A1A2extension = 0.00213417459799 pi-rad is out of range. Must be between -1.0 and 0.0 pi-rad.\n",
      "Joint angle B1B2extension = 0.00213417459799 pi-rad is out of range. Must be between -1.0 and 0.0 pi-rad.\n"
     ]
    },
    {
     "name": "stderr",
     "output_type": "stream",
     "text": [
      "/Users/oliverlee/miniconda3/envs/dev/lib/python3.4/site-packages/scipy/optimize/minpack.py:236: RuntimeWarning: The iteration is not making good progress, as measured by the \n",
      "  improvement from the last five Jacobian evaluations.\n",
      "  warnings.warn(msg, RuntimeWarning)\n"
     ]
    }
   ],
   "source": [
    "stratos.add_rider('Jason')"
   ]
  },
  {
   "cell_type": "code",
   "execution_count": 6,
   "metadata": {
    "collapsed": false
   },
   "outputs": [],
   "source": [
    "def nominal(a):\n",
    "    try:\n",
    "        return a.nominal_value\n",
    "    except AttributeError:\n",
    "        return a\n",
    "\n",
    "import numpy as np\n",
    "vnominal = np.vectorize(nominal)"
   ]
  },
  {
   "cell_type": "code",
   "execution_count": 7,
   "metadata": {
    "collapsed": false
   },
   "outputs": [],
   "source": [
    "def print_canon_code(bicycle):\n",
    "    canon = \"\"\"\n",
    "    private const double _m_phiphi = {};\n",
    "    private const double _m_phidelta = {};\n",
    "    private const double _m_deltaphi = _m_phidelta;\n",
    "    private const double _m_deltadelta = {};\n",
    "    private const double _c1_phiphi = 0;\n",
    "    private const double _c1_phidelta = {};\n",
    "    private const double _c1_deltaphi = {};\n",
    "    private const double _c1_deltadelta = {};\n",
    "    private const double _k0_phiphi = {};\n",
    "    private const double _k0_phidelta = {};\n",
    "    private const double _k0_deltaphi = _k0_phidelta;\n",
    "    private const double _k0_deltadelta = {};\n",
    "    private const double _k2_phiphi = 0;\n",
    "    private const double _k2_phidelta = {};\n",
    "    private const double _k2_deltaphi = 0;\n",
    "    private const double _k2_deltadelta = {};\n",
    "\n",
    "    \"\"\"\n",
    "    M, C1, K0, K2 = [vnominal(m) for m in bicycle.canonical()]\n",
    "    c = canon.format(M[0, 0], M[0, 1], M[1, 1], C1[0, 1], C1[1, 0], C1[1, 1],\n",
    "                     K0[0, 0], K0[0, 1], K0[1, 1], K2[0, 1], K2[1, 1])\n",
    "    print(c)"
   ]
  },
  {
   "cell_type": "code",
   "execution_count": 19,
   "metadata": {
    "collapsed": false
   },
   "outputs": [],
   "source": [
    "def print_geometric_lengths(bicycle):\n",
    "    lengths = \"\"\" \n",
    "    private float rR = {}f; // m\n",
    "    private float rF = {}f; // m\n",
    "    private float cR = {}f; // m\n",
    "    private float ls = {}f; // m\n",
    "    private float cF = {}f; // m\n",
    "    \n",
    "    public override double steerAxisTilt {{ get {{ {}; }} }}\n",
    "    public override double trail {{ get {{ return {}; }} }}\n",
    "    public override double wheelbase {{ get {{ return {}; }} }}\n",
    "    public override double rearRadius {{ get {{ return {}; }} }}\n",
    "    \"\"\"\n",
    "    b = bp.io.remove_uncertainties(bicycle.parameters['Benchmark'])\n",
    "    d = benchmark_to_moore(b)\n",
    "    print(lengths.format(d['rr'], d['rf'], d['d1'], d['d2'], d['d3'],\n",
    "                         b['lam'], b['c'], b['w'], b['rR']))"
   ]
  },
  {
   "cell_type": "code",
   "execution_count": 20,
   "metadata": {
    "collapsed": false
   },
   "outputs": [
    {
     "name": "stdout",
     "output_type": "stream",
     "text": [
      "Browser + Jason canonical matrices:\n",
      "M\n",
      "[[ 102.78260127    1.53494742]\n",
      " [   1.53494742    0.2466622 ]]\n",
      "C1\n",
      "[[  0.          26.39273019]\n",
      " [ -0.44980954   1.03541962]]\n",
      "K0\n",
      "[[-89.32195981  -1.74159477]\n",
      " [ -1.74159477  -0.67769624]]\n",
      "K2\n",
      "[[  0.          74.12484375]\n",
      " [  0.           1.57005903]]\n",
      "\n",
      "\n",
      "    private const double _m_phiphi = 102.78260126737564;\n",
      "    private const double _m_phidelta = 1.5349474185931016;\n",
      "    private const double _m_deltaphi = _m_phidelta;\n",
      "    private const double _m_deltadelta = 0.24666219580863546;\n",
      "    private const double _c1_phiphi = 0;\n",
      "    private const double _c1_phidelta = 26.39273018670496;\n",
      "    private const double _c1_deltaphi = -0.4498095401132608;\n",
      "    private const double _c1_deltadelta = 1.035419624597184;\n",
      "    private const double _k0_phiphi = -89.32195980848145;\n",
      "    private const double _k0_phidelta = -1.7415947744452318;\n",
      "    private const double _k0_deltaphi = _k0_phidelta;\n",
      "    private const double _k0_deltadelta = -0.6776962381761491;\n",
      "    private const double _k2_phiphi = 0;\n",
      "    private const double _k2_phidelta = 74.12484374632714;\n",
      "    private const double _k2_deltaphi = 0;\n",
      "    private const double _k2_deltadelta = 1.5700590282694744;\n",
      "    \n",
      " \n",
      "    private float rR = 0.340958858855f; // m\n",
      "    private float rF = 0.34352982332f; // m\n",
      "    private float cR = 0.9631492634872098f; // m\n",
      "    private float ls = 0.4338396131640938f; // m\n",
      "    private float cF = 0.0705000000001252f; // m\n",
      "    \n",
      "    public override double steerAxisTilt { get { 0.399680398707; } }\n",
      "    public override double trail { get { return 0.0685808540382; } }\n",
      "    public override double wheelbase { get { return 1.121; } }\n",
      "    public override double rearRadius { get { return 0.340958858855; } }\n",
      "    \n",
      "Stratos + Jason canonical matrices:\n",
      "M\n",
      "[[ 101.67198631    2.46816115]\n",
      " [   2.46816115    0.25853258]]\n",
      "C1\n",
      "[[  0.          45.90183836]\n",
      " [ -0.48880893   1.83844159]]\n",
      "K0\n",
      "[[-93.62317973  -2.72232283]\n",
      " [ -2.72232283  -0.79138522]]\n",
      "K2\n",
      "[[  0.          87.22961574]\n",
      " [  0.           2.63550289]]\n",
      "\n",
      "\n",
      "    private const double _m_phiphi = 101.67198630701914;\n",
      "    private const double _m_phidelta = 2.468161147117381;\n",
      "    private const double _m_deltaphi = _m_phidelta;\n",
      "    private const double _m_deltadelta = 0.2585325801368151;\n",
      "    private const double _c1_phiphi = 0;\n",
      "    private const double _c1_phidelta = 45.90183836032588;\n",
      "    private const double _c1_deltaphi = -0.4888089303250309;\n",
      "    private const double _c1_deltadelta = 1.8384415933130247;\n",
      "    private const double _k0_phiphi = -93.62317973041073;\n",
      "    private const double _k0_phidelta = -2.7223228332947773;\n",
      "    private const double _k0_deltaphi = _k0_phidelta;\n",
      "    private const double _k0_deltadelta = -0.7913852193214018;\n",
      "    private const double _k2_phiphi = 0;\n",
      "    private const double _k2_phidelta = 87.22961573777025;\n",
      "    private const double _k2_deltaphi = 0;\n",
      "    private const double _k2_deltadelta = 2.635502885292141;\n",
      "    \n",
      " \n",
      "    private float rR = 0.338477091115578f; // m\n",
      "    private float rF = 0.340003929196009f; // m\n",
      "    private float cR = 0.9476595418469894f; // m\n",
      "    private float ls = 0.29999727534537496f; // m\n",
      "    private float cF = 0.04500000000000001f; // m\n",
      "    \n",
      "    public override double steerAxisTilt { get { 0.29496064358704177; } }\n",
      "    public override double trail { get { return 0.05626998711805831; } }\n",
      "    public override double wheelbase { get { return 1.037; } }\n",
      "    public override double rearRadius { get { return 0.338477091115578; } }\n",
      "    \n"
     ]
    }
   ],
   "source": [
    "for b in [browser, stratos]:\n",
    "    print('{} + {} canonical matrices:'.format(b.bicycleName, b.riderName))\n",
    "    for l, m in zip(['M', 'C1', 'K0', 'K2'], b.canonical()):\n",
    "        print(l)\n",
    "        print(vnominal(m))\n",
    "    print('')\n",
    "    print_canon_code(b)\n",
    "    print_geometric_lengths(b)"
   ]
  }
 ],
 "metadata": {
  "kernelspec": {
   "display_name": "Python 3",
   "language": "python",
   "name": "python3"
  },
  "language_info": {
   "codemirror_mode": {
    "name": "ipython",
    "version": 3
   },
   "file_extension": ".py",
   "mimetype": "text/x-python",
   "name": "python",
   "nbconvert_exporter": "python",
   "pygments_lexer": "ipython3",
   "version": "3.4.3"
  }
 },
 "nbformat": 4,
 "nbformat_minor": 0
}
